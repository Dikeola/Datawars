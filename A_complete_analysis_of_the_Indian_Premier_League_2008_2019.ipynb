{
  "metadata": {
    "kernelspec": {
      "language": "python",
      "display_name": "Python 3",
      "name": "python3"
    },
    "language_info": {
      "name": "python",
      "version": "3.10.12",
      "mimetype": "text/x-python",
      "codemirror_mode": {
        "name": "ipython",
        "version": 3
      },
      "pygments_lexer": "ipython3",
      "nbconvert_exporter": "python",
      "file_extension": ".py"
    },
    "kaggle": {
      "accelerator": "none",
      "dataSources": [
        {
          "sourceId": 6995678,
          "sourceType": "datasetVersion",
          "datasetId": 4021193
        }
      ],
      "dockerImageVersionId": 30626,
      "isInternetEnabled": true,
      "language": "python",
      "sourceType": "notebook",
      "isGpuEnabled": false
    },
    "colab": {
      "provenance": []
    }
  },
  "nbformat_minor": 0,
  "nbformat": 4,
  "cells": [
    {
      "cell_type": "code",
      "source": [
        "Indian Premier League (IPL).\n",
        "Importing required libraries\n",
        "\n",
        "import numpy as np\n",
        "import matplotlib.pyplot as plt\n",
        "import pandas as pd\n",
        "import seaborn as sns\n",
        "Load the IPL dataset ('most_runs_average_strikerate.csv') into your notebook. Once the dataset is loaded, explore it to gain a better understanding of its contents. Look at the variables included in the dataset, their data types, and the number of observations. Identify any missing data, outliers, or errors that may affect the analysis.\n",
        "\n",
        "df = pd.read_csv('most_runs_average_strikerate.csv')\n",
        "Did you find any missing value in the dataset? drop them all.\n",
        "\n",
        "df.isnull().sum()\n",
        "batsman           0\n",
        "total_runs        0\n",
        "out               0\n",
        "numberofballs     0\n",
        "average          34\n",
        "strikerate        0\n",
        "dtype: int64\n",
        "\n",
        "df.dropna(subset='average',inplace=True)\n",
        "Calculate the first, second and third quantile of the variable average\n",
        "\n",
        "df.average.quantile([0.25,0.5,.75])\n",
        "0.25     8.000000\n",
        "0.50    14.607143\n",
        "0.75    23.657609\n",
        "Name: average, dtype: float64\n",
        "Plot a box-plot to identify potencial outliers for the variable average.\n",
        "\n",
        "sns.boxplot(data=df, x='average')\n",
        "<Axes: xlabel='average'>\n",
        "\n",
        "Look for any data points that fall outside the whiskers of the boxplot, which represent the range of data within 1.5 times the interquartile range (IQR) above the upper quartile or below the lower quartile. Filter the dataset using the interquartile range for the variable 'average' and calculate the number of rows in the filtered dataframe.\n",
        "\n",
        "q1 = df.average.quantile(.25)\n",
        "q3 = df.average.quantile(.75)\n",
        "iqr = q3 - q1\n",
        "df2 = df.loc[(df.average>q1-iqr*1.5)&(df.average<q3+iqr*1.5)]\n",
        "\n",
        "df2.shape[0]\n",
        "478"
      ],
      "metadata": {
        "id": "SLycKwy8Pbe6"
      },
      "execution_count": null,
      "outputs": []
    }
  ]
}